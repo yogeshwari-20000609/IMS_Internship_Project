{
  "nbformat": 4,
  "nbformat_minor": 0,
  "metadata": {
    "colab": {
      "name": "JSON Based IMS Solution - 1",
      "provenance": []
    },
    "kernelspec": {
      "name": "python3",
      "display_name": "Python 3"
    },
    "language_info": {
      "name": "python"
    }
  },
  "cells": [
    {
      "cell_type": "code",
      "metadata": {
        "colab": {
          "base_uri": "https://localhost:8080/"
        },
        "id": "PwjCLk6wPNlj",
        "outputId": "064fe256-b0e8-442d-9498-d30981f3927f"
      },
      "source": [
        "!git clone https://github.com/AshishJangra27/Skill-India-AI-ML-Scholarship"
      ],
      "execution_count": 91,
      "outputs": [
        {
          "output_type": "stream",
          "name": "stdout",
          "text": [
            "fatal: destination path 'Skill-India-AI-ML-Scholarship' already exists and is not an empty directory.\n"
          ]
        }
      ]
    },
    {
      "cell_type": "code",
      "metadata": {
        "id": "Hdp4oz6egcmy"
      },
      "source": [
        "import json\n",
        "import time"
      ],
      "execution_count": 133,
      "outputs": []
    },
    {
      "cell_type": "code",
      "metadata": {
        "id": "q3bVaZImdkC0"
      },
      "source": [
        "fd = open('/content/Skill-India-AI-ML-Scholarship/JSON Based Inventory management Assignment/record.json', 'r')\n",
        "t = fd.read()\n",
        "fd.close()\n",
        "\n",
        "fd = open('record.json','w')\n",
        "fd.write(t)\n",
        "fd.close()"
      ],
      "execution_count": 126,
      "outputs": []
    },
    {
      "cell_type": "code",
      "metadata": {
        "colab": {
          "base_uri": "https://localhost:8080/"
        },
        "id": "eDlvwwR_dn9c",
        "outputId": "3df460e5-b0dd-45b2-d58e-b84f8a8bdf6e"
      },
      "source": [
        "fd = open('record.json','r')\n",
        "t = fd.read()\n",
        "fd.close()\n",
        "\n",
        "dct = json.loads(t)\n",
        "\n",
        "print(\"******************************************\")\n",
        "print(\"**********************Menu***************\")\n",
        "print(\"*****************************************\")\n",
        "for i in dct.keys():\n",
        "  print(i, dct[i])\n",
        "\n",
        "print(\"******************************************\\n\")\n",
        "\n",
        "ui_prod  = str(input(\"Enter the product_Id: \"))\n",
        "ui_quant = int(input(\"Enter the quantity: \"))\n",
        "\n",
        "if (ui_prod in dct.keys()):\n",
        "    if (dct[ui_prod]['qn'] >= ui_quant):\n",
        "      print(\"Name:\",dct[ui_prod]['name'])\n",
        "      print(\"Price:\",dct[ui_prod]['pr'])\n",
        "      print(\"Quantity:\", ui_quant)\n",
        "      print(\"------------------------------\")\n",
        "      print(\"Billing Amount:\", dct[ui_prod]['pr'] * ui_quant)\n",
        "\n",
        "      dct[ui_prod]['qn'] = dct[ui_prod]['qn'] - ui_quant\n",
        "\n",
        "    else:\n",
        "      print(\"Sorry, We are not having that much of quantity.\")\n",
        "      print(\"We're only having\",dct[ui_prod]['qn'],\"quantity.\")\n",
        "      print(\"Would you like to purchase or not (Y/N)\")\n",
        "      ch = str(input(\"Y/N\"))\n",
        "\n",
        "      if (ch == \"Y\"):\n",
        "        print(\"Name:\",dct[ui_prod]['name'])\n",
        "        print(\"Price:\",dct[ui_prod]['pr'])\n",
        "        print(\"Quantity:\", dct[ui_prod]['qn'])\n",
        "        print(\"------------------------------\")\n",
        "        print(\"Billing Amount:\", dct[ui_prod]['pr'] * dct[ui_prod]['qn'])\n",
        "\n",
        "        dct[ui_prod]['qn'] = 0\n",
        "      else:\n",
        "        print(\"Thankyou!\")\n",
        "\n",
        "else:\n",
        "  print(\"------------------------------\")\n",
        "  print(\"Product doesn't exist!\")\n",
        "  print(\"Please enter a valid product id\")\n",
        "  print(\"------------------------------\")\n",
        "\n",
        "\n",
        "js = json.dumps(dct)\n",
        "\n",
        "fd = open('record.json','w')\n",
        "fd.write(js)\n",
        "fd.close()"
      ],
      "execution_count": 129,
      "outputs": [
        {
          "output_type": "stream",
          "name": "stdout",
          "text": [
            "******************************************\n",
            "**********************Menu***************\n",
            "*****************************************\n",
            "1001 {'name': 'Choco Cake', 'qn': 30, 'pr': 100}\n",
            "1002 {'name': 'Milk Cake', 'pr': 800, 'qn': 100}\n",
            "1003 {'name': 'Drink', 'pr': 85, 'qn': 100}\n",
            "1004 {'name': 'Candy', 'pr': 5, 'qn': 1000}\n",
            "1005 {'name': 'Pen', 'pr': 20, 'qn': 100}\n",
            "1006 {'name': 'Phone', 'pr': 50000, 'qn': 10}\n",
            "1007 {'name': 'Mic', 'pr': 1500, 'qn': 0}\n",
            "1008 {'name': 'Case', 'pr': 599, 'qn': 5}\n",
            "1009 {'name': 'Keyboard', 'pr': 1999, 'qn': 10}\n",
            "******************************************\n",
            "\n",
            "Enter the product_Id: 1006\n",
            "Enter the quantity: 20\n",
            "Sorry, We are not having that much of quantity.\n",
            "We're only having 10 quantity.\n",
            "Would you like to purchase or not (Y/N)\n",
            "Y/NY\n",
            "Name: Phone\n",
            "Price: 50000\n",
            "Quantity: 10\n",
            "------------------------------\n",
            "Billing Amount: 500000\n"
          ]
        }
      ]
    },
    {
      "cell_type": "code",
      "metadata": {
        "colab": {
          "base_uri": "https://localhost:8080/"
        },
        "id": "FhJedkiGdn_u",
        "outputId": "86bf2ef1-5701-4643-ebcc-054c3a4b46a7"
      },
      "source": [
        "dct"
      ],
      "execution_count": 130,
      "outputs": [
        {
          "output_type": "execute_result",
          "data": {
            "text/plain": [
              "{'1001': {'name': 'Choco Cake', 'pr': 100, 'qn': 30},\n",
              " '1002': {'name': 'Milk Cake', 'pr': 800, 'qn': 100},\n",
              " '1003': {'name': 'Drink', 'pr': 85, 'qn': 100},\n",
              " '1004': {'name': 'Candy', 'pr': 5, 'qn': 1000},\n",
              " '1005': {'name': 'Pen', 'pr': 20, 'qn': 100},\n",
              " '1006': {'name': 'Phone', 'pr': 50000, 'qn': 0},\n",
              " '1007': {'name': 'Mic', 'pr': 1500, 'qn': 0},\n",
              " '1008': {'name': 'Case', 'pr': 599, 'qn': 5},\n",
              " '1009': {'name': 'Keyboard', 'pr': 1999, 'qn': 10}}"
            ]
          },
          "metadata": {},
          "execution_count": 130
        }
      ]
    },
    {
      "cell_type": "code",
      "metadata": {
        "id": "QBQMqUPrdoDy"
      },
      "source": [
        "sales = {}\n",
        "\n",
        "sales['1'] = {'prod_id' : 1002, \"time_pr\" :  time.ctime(), 'bill' : 1000, 'qn' : 5, 'pr' : 1000, 'pr_name' : \"Cake\"}\n",
        "sales['2'] = {'prod_id' : 1002, \"time_pr\" :  time.ctime(), 'bill' : 1000, 'qn' : 5, 'pr' : 1000, 'pr_name' : \"Cake\"}\n",
        "sales['3'] = {'prod_id' : 1002, \"time_pr\" :  time.ctime(), 'bill' : 1000, 'qn' : 5, 'pr' : 1000, 'pr_name' : \"Cake\"}"
      ],
      "execution_count": 144,
      "outputs": []
    },
    {
      "cell_type": "code",
      "metadata": {
        "id": "5bL9_w6ydoG8"
      },
      "source": [
        "sales[str(len(sales)+1)] = {'prod_id' : 1002, \"time_pr\" :  time.ctime(), 'bill' : 1000, 'qn' : 5, 'pr' : 1000, 'pr_name' : \"Cake\"}"
      ],
      "execution_count": 154,
      "outputs": []
    },
    {
      "cell_type": "code",
      "metadata": {
        "colab": {
          "base_uri": "https://localhost:8080/"
        },
        "id": "GApRFBK4mpY5",
        "outputId": "f3569ba5-08af-4946-9187-b409c0b56dac"
      },
      "source": [
        "sales"
      ],
      "execution_count": 155,
      "outputs": [
        {
          "output_type": "execute_result",
          "data": {
            "text/plain": [
              "{'1': {'bill': 1000,\n",
              "  'pr': 1000,\n",
              "  'pr_name': 'Cake',\n",
              "  'prod_id': 1002,\n",
              "  'qn': 5,\n",
              "  'time_pr': 'Tue Sep  7 14:17:37 2021'},\n",
              " '2': {'bill': 1000,\n",
              "  'pr': 1000,\n",
              "  'pr_name': 'Cake',\n",
              "  'prod_id': 1002,\n",
              "  'qn': 5,\n",
              "  'time_pr': 'Tue Sep  7 14:17:37 2021'},\n",
              " '3': {'bill': 1000,\n",
              "  'pr': 1000,\n",
              "  'pr_name': 'Cake',\n",
              "  'prod_id': 1002,\n",
              "  'qn': 5,\n",
              "  'time_pr': 'Tue Sep  7 14:17:37 2021'},\n",
              " '4': {'bill': 1000,\n",
              "  'pr': 1000,\n",
              "  'pr_name': 'Cake',\n",
              "  'prod_id': 1002,\n",
              "  'qn': 5,\n",
              "  'time_pr': 'Tue Sep  7 14:18:45 2021'},\n",
              " '5': {'bill': 1000,\n",
              "  'pr': 1000,\n",
              "  'pr_name': 'Cake',\n",
              "  'prod_id': 1002,\n",
              "  'qn': 5,\n",
              "  'time_pr': 'Tue Sep  7 14:18:57 2021'},\n",
              " '6': {'bill': 1000,\n",
              "  'pr': 1000,\n",
              "  'pr_name': 'Cake',\n",
              "  'prod_id': 1002,\n",
              "  'qn': 5,\n",
              "  'time_pr': 'Tue Sep  7 14:19:03 2021'}}"
            ]
          },
          "metadata": {},
          "execution_count": 155
        }
      ]
    },
    {
      "cell_type": "code",
      "metadata": {
        "colab": {
          "base_uri": "https://localhost:8080/"
        },
        "id": "4M2LuFBEmpbP",
        "outputId": "a47eea8a-6955-45d6-8a25-13d90ff3cbbb"
      },
      "source": [
        "print(\"------------------\")\n",
        "\n",
        "for i in dct['1002'].keys():\n",
        "  print(\"|\",i, \":\" ,dct['1002'][i])\n",
        "\n",
        "print(\"-----------------\")"
      ],
      "execution_count": 169,
      "outputs": [
        {
          "output_type": "stream",
          "name": "stdout",
          "text": [
            "------------------\n",
            "| name : Milk Cake\n",
            "| pr : 800\n",
            "| qn : 100\n",
            "-----------------\n"
          ]
        }
      ]
    }
  ]
}