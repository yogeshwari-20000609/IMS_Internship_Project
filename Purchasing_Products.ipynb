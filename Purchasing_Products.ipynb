{
  "nbformat": 4,
  "nbformat_minor": 0,
  "metadata": {
    "colab": {
      "name": "Purchasing Products",
      "provenance": []
    },
    "kernelspec": {
      "name": "python3",
      "display_name": "Python 3"
    },
    "language_info": {
      "name": "python"
    }
  },
  "cells": [
    {
      "cell_type": "markdown",
      "metadata": {
        "id": "R6NHgAYkxqSl"
      },
      "source": [
        "## Read Inventory"
      ]
    },
    {
      "cell_type": "code",
      "metadata": {
        "id": "jkJT24jqug9n"
      },
      "source": [
        "import json\n",
        "\n",
        "fd = open(\"record.json\",'r')\n",
        "r = fd.read()\n",
        "fd.close()\n",
        "\n",
        "records = json.loads(r)"
      ],
      "execution_count": null,
      "outputs": []
    },
    {
      "cell_type": "code",
      "metadata": {
        "colab": {
          "base_uri": "https://localhost:8080/"
        },
        "id": "CcLYokrlus6z",
        "outputId": "525ffebc-7e32-463b-b0a4-2e6e9fc73f7c"
      },
      "source": [
        "records"
      ],
      "execution_count": null,
      "outputs": [
        {
          "output_type": "execute_result",
          "data": {
            "text/plain": [
              "{'1001': {'name': 'Choco Cake', 'pr': 100, 'qn': 34},\n",
              " '1002': {'name': 'Milk Cake', 'pr': 800, 'qn': 100},\n",
              " '1003': {'name': 'Drink', 'pr': 85, 'qn': 100},\n",
              " '1004': {'name': 'Candy', 'pr': 5, 'qn': 1000},\n",
              " '1005': {'name': 'Pen', 'pr': 20, 'qn': 100},\n",
              " '1006': {'name': 'Phone', 'pr': 50000, 'qn': 9},\n",
              " '1007': {'name': 'Mic', 'pr': 1500, 'qn': 0},\n",
              " '1008': {'name': 'Case', 'pr': 599, 'qn': 5}}"
            ]
          },
          "metadata": {},
          "execution_count": 61
        }
      ]
    },
    {
      "cell_type": "markdown",
      "metadata": {
        "id": "WI5f7HTuxwzb"
      },
      "source": [
        "## Purchase"
      ]
    },
    {
      "cell_type": "code",
      "metadata": {
        "colab": {
          "base_uri": "https://localhost:8080/"
        },
        "id": "c4E4eIvyuth0",
        "outputId": "91896933-af33-4e3e-ad2b-478c1243c6a3"
      },
      "source": [
        "ui_prod  = str(input(\"Enter the product_Id: \"))\n",
        "ui_quant = int(input(\"Enter the quantity: \"))\n",
        "\n",
        "\n",
        "print(\"Product: \", records[ui_prod]['name'])\n",
        "print(\"Price: \", records[ui_prod]['pr'])\n",
        "print(\"Billing Amount: \", records[ui_prod]['pr'] * ui_quant)\n",
        "\n",
        "records[ui_prod]['qn'] = records[ui_prod]['qn'] - ui_quant"
      ],
      "execution_count": null,
      "outputs": [
        {
          "output_type": "stream",
          "name": "stdout",
          "text": [
            "Enter the product_Id: 1006\n",
            "Enter the quantity: 1\n",
            "Product:  Phone\n",
            "Price:  50000\n",
            "Billing Amount:  50000\n"
          ]
        }
      ]
    },
    {
      "cell_type": "markdown",
      "metadata": {
        "id": "3h8S8JBVx1_D"
      },
      "source": [
        "## Update Inventory after purchase"
      ]
    },
    {
      "cell_type": "code",
      "metadata": {
        "id": "TO68fUvvwzXt"
      },
      "source": [
        "js = json.dumps(records)\n",
        "\n",
        "fd = open(\"record.json\",'w')\n",
        "fd.write(js)\n",
        "fd.close()"
      ],
      "execution_count": null,
      "outputs": []
    },
    {
      "cell_type": "markdown",
      "metadata": {
        "id": "pl_p5yDpyu_9"
      },
      "source": [
        "## Sales JSON"
      ]
    },
    {
      "cell_type": "code",
      "metadata": {
        "colab": {
          "base_uri": "https://localhost:8080/"
        },
        "id": "FwBezn_LxBV4",
        "outputId": "e1fb37d9-17c3-4cde-de23-4f9057e74203"
      },
      "source": [
        "{'prod' : ui_prod, 'qn' : ui_quant, 'amount': records[ui_prod]['pr'] * ui_quant}"
      ],
      "execution_count": null,
      "outputs": [
        {
          "output_type": "execute_result",
          "data": {
            "text/plain": [
              "{'amount': 400, 'prod': '1001', 'qn': 4}"
            ]
          },
          "metadata": {},
          "execution_count": 15
        }
      ]
    },
    {
      "cell_type": "code",
      "metadata": {
        "id": "6R0kXinOyWbK"
      },
      "source": [
        "sales = {1 : {'prod' : ui_prod, 'qn' : ui_quant, 'amount': records[ui_prod]['pr'] * ui_quant},\n",
        "         2 : {'prod' : ui_prod, 'qn' : ui_quant, 'amount': records[ui_prod]['pr'] * ui_quant},\n",
        "         3 : {'prod' : ui_prod, 'qn' : ui_quant, 'amount': records[ui_prod]['pr'] * ui_quant}}"
      ],
      "execution_count": null,
      "outputs": []
    },
    {
      "cell_type": "code",
      "metadata": {
        "colab": {
          "base_uri": "https://localhost:8080/",
          "height": 52
        },
        "id": "LRbOdbiUycNe",
        "outputId": "d2f68e95-b223-4d6b-f3f0-155466fc18a0"
      },
      "source": [
        "sale = json.dumps(sales)"
      ],
      "execution_count": null,
      "outputs": [
        {
          "output_type": "execute_result",
          "data": {
            "application/vnd.google.colaboratory.intrinsic+json": {
              "type": "string"
            },
            "text/plain": [
              "'{\"1\": {\"prod\": \"1001\", \"qn\": 4, \"amount\": 400}, \"2\": {\"prod\": \"1001\", \"qn\": 4, \"amount\": 400}, \"3\": {\"prod\": \"1001\", \"qn\": 4, \"amount\": 400}}'"
            ]
          },
          "metadata": {},
          "execution_count": 20
        }
      ]
    }
  ]
}