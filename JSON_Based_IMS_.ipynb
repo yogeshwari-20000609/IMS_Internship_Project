{
  "nbformat": 4,
  "nbformat_minor": 0,
  "metadata": {
    "colab": {
      "name": "JSON Based IMS Solution",
      "provenance": []
    },
    "kernelspec": {
      "name": "python3",
      "display_name": "Python 3"
    },
    "language_info": {
      "name": "python"
    }
  },
  "cells": [
    {
      "cell_type": "markdown",
      "metadata": {
        "id": "v2RpKjNmRTtY"
      },
      "source": [
        "## Loading my Records file"
      ]
    },
    {
      "cell_type": "code",
      "metadata": {
        "colab": {
          "base_uri": "https://localhost:8080/"
        },
        "id": "PwjCLk6wPNlj",
        "outputId": "3f2f32e3-9b1c-4a36-e9a9-243622e2d273"
      },
      "source": [
        "!git clone https://github.com/AshishJangra27/Skill-India-AI-ML-Scholarship"
      ],
      "execution_count": 1,
      "outputs": [
        {
          "output_type": "stream",
          "name": "stdout",
          "text": [
            "Cloning into 'Skill-India-AI-ML-Scholarship'...\n",
            "remote: Enumerating objects: 81, done.\u001b[K\n",
            "remote: Counting objects: 100% (81/81), done.\u001b[K\n",
            "remote: Compressing objects: 100% (77/77), done.\u001b[K\n",
            "remote: Total 81 (delta 31), reused 0 (delta 0), pack-reused 0\u001b[K\n",
            "Unpacking objects: 100% (81/81), done.\n"
          ]
        }
      ]
    },
    {
      "cell_type": "markdown",
      "metadata": {
        "id": "36KxNSi8Rcg7"
      },
      "source": [
        "## Generating Sales and Record file for the first time"
      ]
    },
    {
      "cell_type": "code",
      "metadata": {
        "id": "q3bVaZImdkC0"
      },
      "source": [
        "fd = open('/content/Skill-India-AI-ML-Scholarship/JSON Based Inventory management Assignment/record.json', 'r')\n",
        "t = fd.read()\n",
        "fd.close()\n",
        "\n",
        "fd = open('record.json','w')\n",
        "fd.write(t)\n",
        "fd.close()\n",
        "\n",
        "sales = {}\n",
        "\n",
        "sales = json.dumps(sales)\n",
        "\n",
        "fd = open(\"sales.json\", 'w')\n",
        "fd.write(sales)\n",
        "fd.close()"
      ],
      "execution_count": 35,
      "outputs": []
    },
    {
      "cell_type": "markdown",
      "metadata": {
        "id": "I1bY_ShwR1mi"
      },
      "source": [
        "## Importing Libraries"
      ]
    },
    {
      "cell_type": "code",
      "metadata": {
        "id": "OsuYJTViRbq-"
      },
      "source": [
        "import json\n",
        "import time"
      ],
      "execution_count": null,
      "outputs": []
    },
    {
      "cell_type": "code",
      "metadata": {
        "colab": {
          "base_uri": "https://localhost:8080/"
        },
        "id": "eDlvwwR_dn9c",
        "outputId": "361a7434-79f3-413a-9f55-53e7ca3e624b"
      },
      "source": [
        "# Loading Inventory and Converting it to Dictionary\n",
        "fd = open('record.json','r')\n",
        "t = fd.read()\n",
        "fd.close()\n",
        "dct = json.loads(t)\n",
        "\n",
        "# Loading Sales and Converting it to Dictionary\n",
        "fd = open(\"sales.json\", 'r')\n",
        "sl = fd.read()\n",
        "fd.close()\n",
        "sales = json.loads(sl)\n",
        "\n",
        "\n",
        "# Displaying Menu\n",
        "print(\"**********************************************\")\n",
        "for i in dct.keys():\n",
        "  print(i, dct[i])\n",
        "\n",
        "print(\"******************************************\\n\")\n",
        "\n",
        "# Taking Input from User to Enter what he/she wants to purchase\n",
        "ui_prod  = str(input(\"Enter the product_Id: \"))\n",
        "ui_quant = int(input(\"Enter the quantity: \"))\n",
        "\n",
        "\n",
        "if (ui_prod in dct.keys()):                                                     # Checking If product Exists or not\n",
        "    if (dct[ui_prod]['qn'] >= ui_quant):                                        # If I'm having enough Quantity\n",
        "      print(\"Name:\",dct[ui_prod]['name'])\n",
        "      print(\"Price:\",dct[ui_prod]['pr'])\n",
        "      print(\"Quantity:\", ui_quant)\n",
        "      print(\"------------------------------\")\n",
        "      print(\"Billing Amount:\", dct[ui_prod]['pr'] * ui_quant)\n",
        "\n",
        "      dct[ui_prod]['qn'] = dct[ui_prod]['qn'] - ui_quant                        # Updating Inventory\n",
        "\n",
        "      sales[str(len(sales)+1)] = {'prod_id' : ui_prod,                          # Updating Transection\n",
        "                                  \"time_pr\" :  time.ctime(), \n",
        "                                  'bill' : dct[ui_prod]['pr'] * ui_quant, \n",
        "                                  'qn' : ui_quant, \n",
        "                                  'pr' : dct[ui_prod]['pr'], \n",
        "                                  'pr_name' : dct[ui_prod]['name']}\n",
        "\n",
        "\n",
        "    else:                                                                       # If I'm not having enough Quantity\n",
        "      print(\"Sorry, We are not having that much of quantity.\")\n",
        "      print(\"We're only having\",dct[ui_prod]['qn'],\"quantity.\")\n",
        "      print(\"Would you like to purchase or not (Y/N)\")\n",
        "      ch = str(input(\"Y/N\"))\n",
        "\n",
        "      if (ch == \"Y\"):                                                           # If user wants to purchase the quantitry we're having\n",
        "        print(\"Name:\",dct[ui_prod]['name'])\n",
        "        print(\"Price:\",dct[ui_prod]['pr'])\n",
        "        print(\"Quantity:\", dct[ui_prod]['qn'])\n",
        "        print(\"------------------------------\")\n",
        "        print(\"Billing Amount:\", dct[ui_prod]['pr'] * dct[ui_prod]['qn'])\n",
        "\n",
        "        dct[ui_prod]['qn'] = 0                                                  # Updating Inventory\n",
        "\n",
        "        sales[str(len(sales)+1)] = {'prod_id' : ui_prod,                        # Updating Transection\n",
        "                                    \"time_pr\" :  time.ctime(), \n",
        "                                    'bill' : dct[ui_prod]['pr'] * dct[ui_prod]['qn'], \n",
        "                                    'qn' : dct[ui_prod]['qn'], \n",
        "                                    'pr' : dct[ui_prod]['pr'], \n",
        "                                    'pr_name' : dct[ui_prod]['name']}\n",
        "\n",
        "      else:                                                                     # If user press anything Except Y\n",
        "        print(\"Thankyou!\")\n",
        "\n",
        "else:                                                                           # Product ID Doesn't exists\n",
        "  print(\"------------------------------\")\n",
        "  print(\"Product doesn't exist!\")\n",
        "  print(\"Please enter a valid product id\")\n",
        "  print(\"------------------------------\")\n",
        "\n",
        "\n",
        "\n",
        "sl = json.dumps(sales)                                                          # Updating Sales File\n",
        "fd = open('sales.json','w')\n",
        "fd.write(sl)\n",
        "fd.close()\n",
        "\n",
        "print(\"------------------------------\")\n",
        "print(\"Data Updated in Sales File!\")\n",
        "\n",
        "js = json.dumps(dct)                                                            # Updating Inventory File\n",
        "fd = open('record.json','w')\n",
        "fd.write(js)\n",
        "fd.close()\n",
        "\n",
        "print(\"Data Updated in Inventory File!\")"
      ],
      "execution_count": 36,
      "outputs": [
        {
          "output_type": "stream",
          "name": "stdout",
          "text": [
            "**********************************************\n",
            "1001 {'name': 'Choco Cake', 'qn': 34, 'pr': 100}\n",
            "1002 {'name': 'Milk Cake', 'pr': 800, 'qn': 100}\n",
            "1003 {'name': 'Drink', 'pr': 85, 'qn': 100}\n",
            "1004 {'name': 'Candy', 'pr': 5, 'qn': 1000}\n",
            "1005 {'name': 'Pen', 'pr': 20, 'qn': 100}\n",
            "1006 {'name': 'Phone', 'pr': 50000, 'qn': 10}\n",
            "1007 {'name': 'Mic', 'pr': 1500, 'qn': 0}\n",
            "1008 {'name': 'Case', 'pr': 599, 'qn': 5}\n",
            "1009 {'name': 'Keyboard', 'pr': 1999, 'qn': 10}\n",
            "******************************************\n",
            "\n",
            "Enter the product_Id: 1001\n",
            "Enter the quantity: 5\n",
            "Name: Choco Cake\n",
            "Price: 100\n",
            "Quantity: 5\n",
            "------------------------------\n",
            "Billing Amount: 500\n",
            "------------------------------\n",
            "Data Updated in Sales File!\n",
            "Data Updated in Inventory File!\n"
          ]
        }
      ]
    },
    {
      "cell_type": "code",
      "metadata": {
        "colab": {
          "base_uri": "https://localhost:8080/"
        },
        "id": "16v-WZE7R-Yi",
        "outputId": "4e0e3c26-ad57-4c45-d5f4-a0d4ded1b3cc"
      },
      "source": [
        "dct"
      ],
      "execution_count": 34,
      "outputs": [
        {
          "output_type": "execute_result",
          "data": {
            "text/plain": [
              "{'1001': {'name': 'Choco Cake', 'pr': 100, 'qn': 25},\n",
              " '1002': {'name': 'Milk Cake', 'pr': 800, 'qn': 99},\n",
              " '1003': {'name': 'Drink', 'pr': 85, 'qn': 100},\n",
              " '1004': {'name': 'Candy', 'pr': 5, 'qn': 900},\n",
              " '1005': {'name': 'Pen', 'pr': 20, 'qn': 100},\n",
              " '1006': {'name': 'Phone', 'pr': 50000, 'qn': 8},\n",
              " '1007': {'name': 'Mic', 'pr': 1500, 'qn': 0},\n",
              " '1008': {'name': 'Case', 'pr': 599, 'qn': 5},\n",
              " '1009': {'name': 'Keyboard', 'pr': 1999, 'qn': 10}}"
            ]
          },
          "metadata": {},
          "execution_count": 34
        }
      ]
    },
    {
      "cell_type": "code",
      "metadata": {
        "colab": {
          "base_uri": "https://localhost:8080/"
        },
        "id": "EOJ8rML9UElB",
        "outputId": "7fff74dc-0a05-45c8-f1fe-5f4ca25300f3"
      },
      "source": [
        "sales"
      ],
      "execution_count": 38,
      "outputs": [
        {
          "output_type": "execute_result",
          "data": {
            "text/plain": [
              "{'1': {'bill': 500,\n",
              "  'pr': 100,\n",
              "  'pr_name': 'Choco Cake',\n",
              "  'prod_id': '1001',\n",
              "  'qn': 5,\n",
              "  'time_pr': 'Wed Sep  8 12:12:56 2021'}}"
            ]
          },
          "metadata": {},
          "execution_count": 38
        }
      ]
    },
    {
      "cell_type": "code",
      "metadata": {
        "id": "hl2MXdg0U3l_"
      },
      "source": [
        ""
      ],
      "execution_count": null,
      "outputs": []
    }
  ]
}